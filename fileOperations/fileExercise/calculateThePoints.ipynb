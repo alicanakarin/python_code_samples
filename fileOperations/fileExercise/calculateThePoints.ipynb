{
 "cells": [
  {
   "cell_type": "code",
   "execution_count": 7,
   "metadata": {},
   "outputs": [],
   "source": [
    "def calculateThePoints(fileLine):\n",
    "    fileLine=fileLine[:-1]\n",
    "    myList=fileLine.split(\",\")\n",
    "    name=myList[0]\n",
    "    point1=int(myList[1])\n",
    "    point2=int(myList[2])\n",
    "    point3=int(myList[3])\n",
    "    lastPoint=point1*(3/10)+point2*(3/10)+point3*(4/10)\n",
    "    if(lastPoint>=90):\n",
    "        grade=\"A+\"\n",
    "    elif(lastPoint>=85):\n",
    "        grade=\"A-\"\n",
    "    elif(lastPoint>=80):\n",
    "        grade=\"B+\"\n",
    "    elif(lastPoint>=75):\n",
    "        grade=\"B-\"\n",
    "    elif(lastPoint>=70):\n",
    "        grade=\"C+\"\n",
    "    elif(lastPoint>=60):\n",
    "        grade=\"C-\"\n",
    "    else:\n",
    "        grade=\"F-\"\n",
    "    \n",
    "    return name+\" ------------> \"+grade+\"\\n\""
   ]
  },
  {
   "cell_type": "code",
   "execution_count": 8,
   "metadata": {},
   "outputs": [],
   "source": [
    "with open(\"dosya.txt\",\"r\",encoding=\"utf-8\")as file:\n",
    "    studentList=[]\n",
    "    for i in file:\n",
    "        studentList.append(calculateThePoints(i))\n",
    "    \n",
    "    with open(\"grades.txt\",\"w\",encoding=\"utf-8\")as file2:\n",
    "        for i in studentList:\n",
    "            file2.write(i)"
   ]
  },
  {
   "cell_type": "code",
   "execution_count": null,
   "metadata": {},
   "outputs": [],
   "source": []
  }
 ],
 "metadata": {
  "kernelspec": {
   "display_name": "Python 3",
   "language": "python",
   "name": "python3"
  },
  "language_info": {
   "codemirror_mode": {
    "name": "ipython",
    "version": 3
   },
   "file_extension": ".py",
   "mimetype": "text/x-python",
   "name": "python",
   "nbconvert_exporter": "python",
   "pygments_lexer": "ipython3",
   "version": "3.7.4"
  }
 },
 "nbformat": 4,
 "nbformat_minor": 2
}
